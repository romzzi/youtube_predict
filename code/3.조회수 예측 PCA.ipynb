{
 "cells": [
  {
   "cell_type": "code",
   "execution_count": 76,
   "metadata": {},
   "outputs": [],
   "source": [
    "#import library\n",
    "import pandas as pd \n",
    "import numpy as np\n",
    "import matplotlib.pyplot as plt\n",
    "from sklearn.decomposition import PCA\n",
    "from sklearn.preprocessing import StandardScaler\n",
    "import seaborn as sns\n",
    "\n",
    "%matplotlib inline"
   ]
  },
  {
   "cell_type": "code",
   "execution_count": 77,
   "metadata": {},
   "outputs": [
    {
     "name": "stdout",
     "output_type": "stream",
     "text": [
      "<class 'pandas.core.frame.DataFrame'>\n",
      "RangeIndex: 82954 entries, 0 to 82953\n",
      "Data columns (total 5 columns):\n",
      " #   Column         Non-Null Count  Dtype\n",
      "---  ------         --------------  -----\n",
      " 0   categoryId     82954 non-null  int64\n",
      " 1   view_count     82954 non-null  int64\n",
      " 2   likes          82954 non-null  int64\n",
      " 3   dislikes       82954 non-null  int64\n",
      " 4   comment_count  82954 non-null  int64\n",
      "dtypes: int64(5)\n",
      "memory usage: 3.2 MB\n"
     ]
    }
   ],
   "source": [
    "# 데이터 준비\n",
    "data = pd.read_csv('KR_youtube_trending_data.csv', encoding='utf-8')\n",
    "data.trending_date=pd.to_datetime(data.trending_date, format='%Y-%m-%d')\n",
    "z = data['trending_date'].values\n",
    "\n",
    "# 원하는 데이터만 남겨두고 drop하기\n",
    "data.drop('video_id', axis = 1, inplace=True)\n",
    "data.drop('title', axis = 1, inplace=True)\n",
    "data.drop('channelId', axis = 1, inplace=True)\n",
    "data.drop('channelTitle', axis = 1, inplace=True)\n",
    "data.drop('tags', axis = 1, inplace=True)\n",
    "data.drop('thumbnail_link', axis = 1, inplace=True)\n",
    "data.drop('comments_disabled', axis = 1, inplace=True)\n",
    "data.drop('ratings_disabled', axis = 1, inplace=True)\n",
    "data.drop('description', axis = 1, inplace=True)\n",
    "data.drop('publishedAt', axis = 1, inplace=True)\n",
    "data.drop('trending_date', axis = 1, inplace=True)\n",
    "data.info()"
   ]
  },
  {
   "cell_type": "code",
   "execution_count": 78,
   "metadata": {},
   "outputs": [],
   "source": [
    "scaler = StandardScaler()\n",
    "output = scaler.fit_transform(data)"
   ]
  },
  {
   "cell_type": "code",
   "execution_count": 79,
   "metadata": {},
   "outputs": [
    {
     "data": {
      "text/html": [
       "<div>\n",
       "<style scoped>\n",
       "    .dataframe tbody tr th:only-of-type {\n",
       "        vertical-align: middle;\n",
       "    }\n",
       "\n",
       "    .dataframe tbody tr th {\n",
       "        vertical-align: top;\n",
       "    }\n",
       "\n",
       "    .dataframe thead th {\n",
       "        text-align: right;\n",
       "    }\n",
       "</style>\n",
       "<table border=\"1\" class=\"dataframe\">\n",
       "  <thead>\n",
       "    <tr style=\"text-align: right;\">\n",
       "      <th></th>\n",
       "      <th>categoryId</th>\n",
       "      <th>likes</th>\n",
       "      <th>dislikes</th>\n",
       "      <th>comment_count</th>\n",
       "    </tr>\n",
       "  </thead>\n",
       "  <tbody>\n",
       "    <tr>\n",
       "      <th>0</th>\n",
       "      <td>0.555828</td>\n",
       "      <td>-0.056229</td>\n",
       "      <td>8.489251</td>\n",
       "      <td>0.918502</td>\n",
       "    </tr>\n",
       "    <tr>\n",
       "      <th>1</th>\n",
       "      <td>-3.031093</td>\n",
       "      <td>-0.106503</td>\n",
       "      <td>-0.065881</td>\n",
       "      <td>-0.056378</td>\n",
       "    </tr>\n",
       "    <tr>\n",
       "      <th>2</th>\n",
       "      <td>0.243922</td>\n",
       "      <td>-0.127088</td>\n",
       "      <td>5.493630</td>\n",
       "      <td>0.281522</td>\n",
       "    </tr>\n",
       "    <tr>\n",
       "      <th>3</th>\n",
       "      <td>0.555828</td>\n",
       "      <td>-0.089167</td>\n",
       "      <td>0.040101</td>\n",
       "      <td>-0.017756</td>\n",
       "    </tr>\n",
       "    <tr>\n",
       "      <th>4</th>\n",
       "      <td>-1.627515</td>\n",
       "      <td>0.545101</td>\n",
       "      <td>0.687453</td>\n",
       "      <td>0.086820</td>\n",
       "    </tr>\n",
       "    <tr>\n",
       "      <th>5</th>\n",
       "      <td>-1.627515</td>\n",
       "      <td>1.268603</td>\n",
       "      <td>1.127393</td>\n",
       "      <td>0.141307</td>\n",
       "    </tr>\n",
       "    <tr>\n",
       "      <th>6</th>\n",
       "      <td>-3.031093</td>\n",
       "      <td>-0.149771</td>\n",
       "      <td>-0.074090</td>\n",
       "      <td>-0.074255</td>\n",
       "    </tr>\n",
       "    <tr>\n",
       "      <th>7</th>\n",
       "      <td>0.555828</td>\n",
       "      <td>-0.136977</td>\n",
       "      <td>0.977929</td>\n",
       "      <td>0.050289</td>\n",
       "    </tr>\n",
       "    <tr>\n",
       "      <th>8</th>\n",
       "      <td>0.399875</td>\n",
       "      <td>-0.136725</td>\n",
       "      <td>-0.078560</td>\n",
       "      <td>-0.039551</td>\n",
       "    </tr>\n",
       "    <tr>\n",
       "      <th>9</th>\n",
       "      <td>0.399875</td>\n",
       "      <td>-0.140815</td>\n",
       "      <td>-0.097660</td>\n",
       "      <td>-0.063622</td>\n",
       "    </tr>\n",
       "  </tbody>\n",
       "</table>\n",
       "</div>"
      ],
      "text/plain": [
       "   categoryId     likes  dislikes  comment_count\n",
       "0    0.555828 -0.056229  8.489251       0.918502\n",
       "1   -3.031093 -0.106503 -0.065881      -0.056378\n",
       "2    0.243922 -0.127088  5.493630       0.281522\n",
       "3    0.555828 -0.089167  0.040101      -0.017756\n",
       "4   -1.627515  0.545101  0.687453       0.086820\n",
       "5   -1.627515  1.268603  1.127393       0.141307\n",
       "6   -3.031093 -0.149771 -0.074090      -0.074255\n",
       "7    0.555828 -0.136977  0.977929       0.050289\n",
       "8    0.399875 -0.136725 -0.078560      -0.039551\n",
       "9    0.399875 -0.140815 -0.097660      -0.063622"
      ]
     },
     "execution_count": 79,
     "metadata": {},
     "output_type": "execute_result"
    }
   ],
   "source": [
    "x = data.drop(['view_count'], axis=1).values # 독립변인들의 value값만 추출\n",
    "y = data['view_count'].values # 종속변인 추출\n",
    "\n",
    "x = StandardScaler().fit_transform(x) # x객체에 x를 표준화한 데이터를 저장\n",
    "\n",
    "features = ['categoryId', 'likes','dislikes','comment_count']\n",
    "target_features = ['view_count']\n",
    "x_df = pd.DataFrame(x, columns=features)\n",
    "x_df.head(10)"
   ]
  },
  {
   "cell_type": "code",
   "execution_count": 80,
   "metadata": {},
   "outputs": [
    {
     "data": {
      "text/plain": [
       "(82954, 4)"
      ]
     },
     "execution_count": 80,
     "metadata": {},
     "output_type": "execute_result"
    }
   ],
   "source": [
    "x_df.shape"
   ]
  },
  {
   "cell_type": "code",
   "execution_count": 81,
   "metadata": {},
   "outputs": [
    {
     "data": {
      "text/html": [
       "<div>\n",
       "<style scoped>\n",
       "    .dataframe tbody tr th:only-of-type {\n",
       "        vertical-align: middle;\n",
       "    }\n",
       "\n",
       "    .dataframe tbody tr th {\n",
       "        vertical-align: top;\n",
       "    }\n",
       "\n",
       "    .dataframe thead th {\n",
       "        text-align: right;\n",
       "    }\n",
       "</style>\n",
       "<table border=\"1\" class=\"dataframe\">\n",
       "  <thead>\n",
       "    <tr style=\"text-align: right;\">\n",
       "      <th></th>\n",
       "      <th>view_count</th>\n",
       "    </tr>\n",
       "  </thead>\n",
       "  <tbody>\n",
       "    <tr>\n",
       "      <th>0</th>\n",
       "      <td>5947503</td>\n",
       "    </tr>\n",
       "    <tr>\n",
       "      <th>1</th>\n",
       "      <td>963384</td>\n",
       "    </tr>\n",
       "    <tr>\n",
       "      <th>2</th>\n",
       "      <td>2950885</td>\n",
       "    </tr>\n",
       "    <tr>\n",
       "      <th>3</th>\n",
       "      <td>1743374</td>\n",
       "    </tr>\n",
       "    <tr>\n",
       "      <th>4</th>\n",
       "      <td>3433885</td>\n",
       "    </tr>\n",
       "    <tr>\n",
       "      <th>5</th>\n",
       "      <td>6000070</td>\n",
       "    </tr>\n",
       "    <tr>\n",
       "      <th>6</th>\n",
       "      <td>690331</td>\n",
       "    </tr>\n",
       "    <tr>\n",
       "      <th>7</th>\n",
       "      <td>659743</td>\n",
       "    </tr>\n",
       "    <tr>\n",
       "      <th>8</th>\n",
       "      <td>340149</td>\n",
       "    </tr>\n",
       "    <tr>\n",
       "      <th>9</th>\n",
       "      <td>351264</td>\n",
       "    </tr>\n",
       "  </tbody>\n",
       "</table>\n",
       "</div>"
      ],
      "text/plain": [
       "   view_count\n",
       "0     5947503\n",
       "1      963384\n",
       "2     2950885\n",
       "3     1743374\n",
       "4     3433885\n",
       "5     6000070\n",
       "6      690331\n",
       "7      659743\n",
       "8      340149\n",
       "9      351264"
      ]
     },
     "execution_count": 81,
     "metadata": {},
     "output_type": "execute_result"
    }
   ],
   "source": [
    "y_df = pd.DataFrame(y, columns=target_features)\n",
    "y_df.head(10)"
   ]
  },
  {
   "cell_type": "code",
   "execution_count": 82,
   "metadata": {},
   "outputs": [],
   "source": [
    "X_cen  = x_df - x_df.mean(axis = 0)"
   ]
  },
  {
   "cell_type": "code",
   "execution_count": 83,
   "metadata": {},
   "outputs": [
    {
     "name": "stdout",
     "output_type": "stream",
     "text": [
      "[[ 1.00001206 -0.16133898 -0.07812067 -0.09200739]\n",
      " [-0.16133898  1.00001206  0.67947072  0.83948704]\n",
      " [-0.07812067  0.67947072  1.00001206  0.65081259]\n",
      " [-0.09200739  0.83948704  0.65081259  1.00001206]]\n"
     ]
    }
   ],
   "source": [
    "X_cov = np.dot(x_df.T, X_cen) / 82953\n",
    "print(X_cov)"
   ]
  },
  {
   "cell_type": "code",
   "execution_count": 84,
   "metadata": {},
   "outputs": [
    {
     "name": "stdout",
     "output_type": "stream",
     "text": [
      "eigenvalue : [2.47514869 0.97913066 0.15614619 0.38962269]\n",
      "eigenvector :\n",
      " [[ 0.12988046 -0.98854154 -0.06093414  0.0469439 ]\n",
      " [-0.59416648 -0.01725522 -0.73475957  0.32679785]\n",
      " [-0.53804416 -0.11438411  0.06756058 -0.83238232]\n",
      " [-0.58361437 -0.09697508  0.67219862  0.4451282 ]]\n"
     ]
    }
   ],
   "source": [
    "w, v = np.linalg.eig(X_cov)\n",
    "print('eigenvalue :', w) # 고유값\n",
    "print('eigenvector :\\n', v) # 고유벡터\n"
   ]
  },
  {
   "cell_type": "code",
   "execution_count": 85,
   "metadata": {},
   "outputs": [
    {
     "name": "stdout",
     "output_type": "stream",
     "text": [
      "explained variance ratio : [0.61877971 0.24477971 0.03903608 0.0974045 ]\n"
     ]
    }
   ],
   "source": [
    "# 고유값 비율\n",
    "print('explained variance ratio :', w / w.sum())"
   ]
  },
  {
   "cell_type": "code",
   "execution_count": 86,
   "metadata": {},
   "outputs": [
    {
     "data": {
      "text/plain": [
       "PCA(n_components=4)"
      ]
     },
     "execution_count": 86,
     "metadata": {},
     "output_type": "execute_result"
    }
   ],
   "source": [
    "from sklearn.decomposition import PCA\n",
    "pca = PCA(n_components=4)\n",
    "pca.fit(x_df)"
   ]
  },
  {
   "cell_type": "code",
   "execution_count": 87,
   "metadata": {},
   "outputs": [
    {
     "data": {
      "text/plain": [
       "0    0.618780\n",
       "1    0.863559\n",
       "2    0.960964\n",
       "3    1.000000\n",
       "dtype: float64"
      ]
     },
     "execution_count": 87,
     "metadata": {},
     "output_type": "execute_result"
    }
   ],
   "source": [
    "data_scale = pd.DataFrame(x_df, columns=x_df.columns, index = x_df.index)\n",
    "# PCA 주성분분석\n",
    "pca = PCA(random_state=0)\n",
    "X_p = pca.fit_transform(data_scale)\n",
    "pd.Series(np.cumsum(pca.explained_variance_ratio_))\n",
    "\n",
    "# 3개의 고유값으로 96%의 분산량을 설명할 수 있다."
   ]
  },
  {
   "cell_type": "code",
   "execution_count": 88,
   "metadata": {},
   "outputs": [],
   "source": [
    "from sklearn.decomposition import PCA\n",
    "from sklearn.linear_model import LinearRegression\n",
    "from sklearn.pipeline import Pipeline\n",
    "from sklearn.model_selection import train_test_split\n",
    "from sklearn.linear_model import Lasso\n",
    "from sklearn.linear_model import ElasticNet\n",
    "\n",
    "X_train, X_test, y_train, y_test = train_test_split(x_df, y_df, test_size = 0.17, random_state = 1)\n",
    "\n",
    "pca = PCA(n_components=3)\n",
    "\n",
    "#1. LinearRegression\n",
    "lr = LinearRegression()\n",
    "pipe = Pipeline([('pca', pca), ('linear', lr)])\n",
    "#2. Lasso\n",
    "lasso_reg = Lasso(alpha = 0.1, random_state =1)\n",
    "pipe_lasso = Pipeline([('pca', pca), ('fit', lasso_reg)])\n",
    "#3. ElasticNet\n",
    "el_reg = ElasticNet(alpha = 0.1, l1_ratio = 0.5, random_state =  1)\n",
    "pipe_el = Pipeline([('pca', pca), ('fit', el_reg)])\n"
   ]
  },
  {
   "cell_type": "code",
   "execution_count": 89,
   "metadata": {},
   "outputs": [
    {
     "data": {
      "text/plain": [
       "0.8539275991819452"
      ]
     },
     "execution_count": 89,
     "metadata": {},
     "output_type": "execute_result"
    }
   ],
   "source": [
    "# Linear_Regression\n",
    "# Linear_Regression의 score(R-squared)값은 0.85\n",
    "pipe.fit(X_train, y_train)\n",
    "pipe.score(X_train, y_train)"
   ]
  },
  {
   "cell_type": "code",
   "execution_count": 90,
   "metadata": {},
   "outputs": [
    {
     "data": {
      "text/plain": [
       "0.8370045381042113"
      ]
     },
     "execution_count": 90,
     "metadata": {},
     "output_type": "execute_result"
    }
   ],
   "source": [
    "# Linear_Regression의 MSE score 값은 0.83\n",
    "pipe.fit(X_test, y_test)\n",
    "pipe.score(X_test, y_test)"
   ]
  },
  {
   "cell_type": "code",
   "execution_count": 91,
   "metadata": {},
   "outputs": [
    {
     "data": {
      "text/plain": [
       "825808.7875166024"
      ]
     },
     "execution_count": 91,
     "metadata": {},
     "output_type": "execute_result"
    }
   ],
   "source": [
    "# Linear_Regression을 활용한 예상 조회수 = 825808\n",
    "from sklearn import metrics\n",
    "\n",
    "y_pred=pipe.predict(X_test)\n",
    "metrics.mean_absolute_error(y_test,y_pred)"
   ]
  },
  {
   "cell_type": "code",
   "execution_count": 92,
   "metadata": {},
   "outputs": [
    {
     "data": {
      "text/plain": [
       "0.8539275991819445"
      ]
     },
     "execution_count": 92,
     "metadata": {},
     "output_type": "execute_result"
    }
   ],
   "source": [
    "# Lasso_Regression\n",
    "# Lasso_Regression의 score(R-squared)값은 0.85\n",
    "pipe_lasso.fit(X_train, y_train)\n",
    "pipe_lasso.score(X_train, y_train)"
   ]
  },
  {
   "cell_type": "code",
   "execution_count": 93,
   "metadata": {},
   "outputs": [
    {
     "data": {
      "text/plain": [
       "0.8370045381042096"
      ]
     },
     "execution_count": 93,
     "metadata": {},
     "output_type": "execute_result"
    }
   ],
   "source": [
    "# Lasso_Regression의 MSE score 값은 0.83\n",
    "pipe_lasso.fit(X_test, y_test)\n",
    "pipe_lasso.score(X_test, y_test)"
   ]
  },
  {
   "cell_type": "code",
   "execution_count": 94,
   "metadata": {},
   "outputs": [
    {
     "data": {
      "text/plain": [
       "825808.7938781326"
      ]
     },
     "execution_count": 94,
     "metadata": {},
     "output_type": "execute_result"
    }
   ],
   "source": [
    "# Lasso_Regression을 활용한 예상 조회수 = 825808\n",
    "from sklearn import metrics\n",
    "\n",
    "y_pred=pipe_lasso.predict(X_test)\n",
    "metrics.mean_absolute_error(y_test,y_pred)"
   ]
  },
  {
   "cell_type": "code",
   "execution_count": 95,
   "metadata": {},
   "outputs": [
    {
     "data": {
      "text/plain": [
       "0.8533964615013345"
      ]
     },
     "execution_count": 95,
     "metadata": {},
     "output_type": "execute_result"
    }
   ],
   "source": [
    "# ElasticeNet_Regression\n",
    "# ElasticeNet_Regression의 score(R-squared)값은 0.85\n",
    "pipe_el.fit(X_train, y_train)\n",
    "pipe_el.score(X_train, y_train)"
   ]
  },
  {
   "cell_type": "code",
   "execution_count": 96,
   "metadata": {},
   "outputs": [
    {
     "data": {
      "text/plain": [
       "0.8361273102241578"
      ]
     },
     "execution_count": 96,
     "metadata": {},
     "output_type": "execute_result"
    }
   ],
   "source": [
    "# ElasticeNet_Regression의 MSE score 값은 0.83\n",
    "pipe_el.fit(X_test, y_test)\n",
    "pipe_el.score(X_test, y_test)"
   ]
  },
  {
   "cell_type": "code",
   "execution_count": 97,
   "metadata": {},
   "outputs": [
    {
     "data": {
      "text/plain": [
       "833191.3936135924"
      ]
     },
     "execution_count": 97,
     "metadata": {},
     "output_type": "execute_result"
    }
   ],
   "source": [
    "# ElasticeNet_Regression을 활용한 예상 조회수 = 833191\n",
    "from sklearn import metrics\n",
    "\n",
    "y_pred=pipe_el.predict(X_test)\n",
    "metrics.mean_absolute_error(y_test,y_pred)"
   ]
  },
  {
   "cell_type": "code",
   "execution_count": 98,
   "metadata": {},
   "outputs": [
    {
     "data": {
      "text/plain": [
       "Text(0.5, 1.0, 'view_count vs linear Predicted view_count: $Y_i$ vs $\\\\hat{Y}_i$')"
      ]
     },
     "execution_count": 98,
     "metadata": {},
     "output_type": "execute_result"
    },
    {
     "data": {
      "image/png": "[encoded data removed]",
      "text/plain": [
       "<Figure size 432x288 with 1 Axes>"
      ]
     },
     "metadata": {
      "needs_background": "light"
     },
     "output_type": "display_data"
    }
   ],
   "source": [
    "%matplotlib inline\n",
    "import matplotlib.pyplot as plt\n",
    "\n",
    "\n",
    "Y_pred = pipe.predict(X_test)\n",
    "\n",
    "plt.scatter(y_test, Y_pred)\n",
    "plt.xlabel(\"view_count Index: $Y_i$\")\n",
    "plt.ylabel(\"Predicted view_count Index: $\\hat{Y}_i$\")\n",
    "plt.title(\"view_count vs linear Predicted view_count: $Y_i$ vs $\\hat{Y}_i$\")"
   ]
  },
  {
   "cell_type": "code",
   "execution_count": 99,
   "metadata": {},
   "outputs": [
    {
     "data": {
      "text/plain": [
       "Text(0.5, 1.0, 'view_count vs Lasso Predicted view_count: $Y_i$ vs $\\\\hat{Y}_i$')"
      ]
     },
     "execution_count": 99,
     "metadata": {},
     "output_type": "execute_result"
    },
    {
     "data": {
      "image/png": "[encoded data removed]",
      "text/plain": [
       "<Figure size 432x288 with 1 Axes>"
      ]
     },
     "metadata": {
      "needs_background": "light"
     },
     "output_type": "display_data"
    }
   ],
   "source": [
    "%matplotlib inline\n",
    "import matplotlib.pyplot as plt\n",
    "\n",
    "Y_pred = pipe_lasso.predict(X_test)\n",
    "\n",
    "plt.scatter(y_test, Y_pred)\n",
    "plt.xlabel(\"view_count Index: $Y_i$\")\n",
    "plt.ylabel(\"Predicted view_count Index: $\\hat{Y}_i$\")\n",
    "plt.title(\"view_count vs Lasso Predicted view_count: $Y_i$ vs $\\hat{Y}_i$\")"
   ]
  },
  {
   "cell_type": "code",
   "execution_count": 100,
   "metadata": {},
   "outputs": [
    {
     "data": {
      "text/plain": [
       "Text(0.5, 1.0, 'view_count vs ElasticeNet Predicted view_count: $Y_i$ vs $\\\\hat{Y}_i$')"
      ]
     },
     "execution_count": 100,
     "metadata": {},
     "output_type": "execute_result"
    },
    {
     "data": {
      "image/png": "[encoded data removed]",
      "text/plain": [
       "<Figure size 432x288 with 1 Axes>"
      ]
     },
     "metadata": {
      "needs_background": "light"
     },
     "output_type": "display_data"
    }
   ],
   "source": [
    "%matplotlib inline\n",
    "import matplotlib.pyplot as plt\n",
    "\n",
    "\n",
    "Y_pred = pipe_el.predict(X_test)\n",
    "\n",
    "plt.scatter(y_test, Y_pred)\n",
    "plt.xlabel(\"view_count Index: $Y_i$\")\n",
    "plt.ylabel(\"Predicted view_count Index: $\\hat{Y}_i$\")\n",
    "plt.title(\"view_count vs ElasticeNet Predicted view_count: $Y_i$ vs $\\hat{Y}_i$\")"
   ]
  }
 ],
 "metadata": {
  "interpreter": {
   "hash": "5c0372ed38b372118c24adb00d45654d76c8d10261533c5724e3f5fc1d75489a"
  },
  "kernelspec": {
   "display_name": "Python 3.8.6 64-bit",
   "language": "python",
   "name": "python3"
  },
  "language_info": {
   "codemirror_mode": {
    "name": "ipython",
    "version": 3
   },
   "file_extension": ".py",
   "mimetype": "text/x-python",
   "name": "python",
   "nbconvert_exporter": "python",
   "pygments_lexer": "ipython3",
   "version": "3.8.6"
  },
  "orig_nbformat": 4
 },
 "nbformat": 4,
 "nbformat_minor": 2
}
